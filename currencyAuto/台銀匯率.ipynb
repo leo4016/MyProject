{
 "cells": [
  {
   "cell_type": "markdown",
   "metadata": {},
   "source": [
    "# 程式碼總覽"
   ]
  },
  {
   "cell_type": "code",
   "execution_count": null,
   "metadata": {
    "collapsed": true
   },
   "outputs": [],
   "source": [
    "import pandas as pd\n",
    "import sqlite3\n",
    "from datetime import datetime \n",
    "df = pd.read_html(\"http://rate.bot.com.tw/xrt?Lang=zh-TW\")\n",
    "currency = df[0]\n",
    "currency = currency.ix[:,0:5] #取前5攔\n",
    "currency.columns = [u'幣別', u'現金匯率-本行買入', u'現金匯率-本行賣出', u'即期匯率-本行買入', u'即期匯率-本行賣出'] #存成unicode\n",
    "\n",
    "#將currency裡只取USD\n",
    "currency[u'幣別'] = currency[u'幣別'].str.extract('\\((\\w+)\\)')\n",
    "currency['Date'] = datetime.now().strftime('%Y-%m-%d')\n",
    "currency['Date'] = pd.to_datetime(currency['Date'])\n",
    "\n",
    "with sqlite3.connect('C:\\\\Users\\\\Leo\\\\SQLITE/currency.sqlite') as db: \n",
    "    currency.to_sql('currency', con = db, if_exists='append')   #將資料currency存入db裡,若資料表已經存在則將資料附加到最後\n",
    "    \n",
    "##將此程式碼存成.py檔,再使用工作排程定時擷取台銀資料"
   ]
  },
  {
   "cell_type": "code",
   "execution_count": null,
   "metadata": {
    "collapsed": true
   },
   "outputs": [],
   "source": []
  },
  {
   "cell_type": "markdown",
   "metadata": {},
   "source": [
    "###  爬台銀匯率並存檔"
   ]
  },
  {
   "cell_type": "code",
   "execution_count": null,
   "metadata": {
    "collapsed": true
   },
   "outputs": [],
   "source": [
    "import pandas as pd\n",
    "df = pd.read_html(\"http://rate.bot.com.tw/xrt?Lang=zh-TW\")\n",
    "currency = df[0]\n",
    "currency = currency.ix[:,0:5] #取前5攔\n",
    "currency.columns = [u'幣別', u'現金匯率-本行買入', u'現金匯率-本行賣出', u'即期匯率-本行買入', u'即期匯率-本行賣出'] #存成unicode\n",
    "\n",
    "#將currency裡只取USD\n",
    "currency[u'幣別'] = currency[u'幣別'].str.extract('\\((\\w+)\\)')\n",
    "currency.to_excel('currency.xlsx') #存成xlsx檔"
   ]
  },
  {
   "cell_type": "markdown",
   "metadata": {},
   "source": [
    "### 將資料存進sqlite 並讀取"
   ]
  },
  {
   "cell_type": "code",
   "execution_count": null,
   "metadata": {
    "collapsed": true
   },
   "outputs": [],
   "source": [
    "#1.新增欄位Date\n",
    "currency['Date'] = '123' # add new column\n",
    "\n",
    "#2.改正確日期到Date欄位\n",
    "from datetime import datetime \n",
    "currency['Date'] = datetime.now().strftime('%Y-%m-%d')\n",
    "currency['Date'] = pd.to_datetime(currency['Date'])\n",
    "\n",
    "#3.將資料存到sqlite\n",
    "import sqlite3\n",
    "with sqlite3.connect('currency.sqlite') as db:     #連線currency.sqlite(資料庫名稱)\n",
    "    currency.to_sql('currency', con = db, if_exists='append')   #將資料currency存入db裡,若資料表已經存在則將資料附加到最後\n",
    "    \n",
    "    \n",
    "#4.將資料從sqlite拿出    \n",
    "with sqlite3.connect('currency.sqlite') as db: \n",
    "    df = pd.read_sql_query('select * from currency', con = db) #sql語法將檔案拿出\n",
    "    \n",
    "df"
   ]
  },
  {
   "cell_type": "code",
   "execution_count": 60,
   "metadata": {
    "collapsed": true
   },
   "outputs": [],
   "source": []
  },
  {
   "cell_type": "markdown",
   "metadata": {},
   "source": [
    "# 自動設定工作排程將資料存入db中"
   ]
  },
  {
   "cell_type": "code",
   "execution_count": 69,
   "metadata": {
    "collapsed": false
   },
   "outputs": [],
   "source": [
    "import pandas as pd\n",
    "import sqlite3\n",
    "from datetime import datetime \n",
    "df = pd.read_html(\"http://rate.bot.com.tw/xrt?Lang=zh-TW\")\n",
    "currency = df[0]\n",
    "currency = currency.ix[:,0:5] #取前5攔\n",
    "currency.columns = [u'幣別', u'現金匯率-本行買入', u'現金匯率-本行賣出', u'即期匯率-本行買入', u'即期匯率-本行賣出'] #存成unicode\n",
    "\n",
    "#將currency裡只取USD\n",
    "currency[u'幣別'] = currency[u'幣別'].str.extract('\\((\\w+)\\)')\n",
    "currency['Date'] = datetime.now().strftime('%Y-%m-%d')\n",
    "currency['Date'] = pd.to_datetime(currency['Date'])\n",
    "\n",
    "with sqlite3.connect('/home/hduser/SQLITE/currency.sqlite') as db: \n",
    "    currency.to_sql('currency', con = db, if_exists='append')   #將資料currency存入db裡,若資料表已經存在則將資料附加到最後"
   ]
  },
  {
   "cell_type": "code",
   "execution_count": null,
   "metadata": {
    "collapsed": true
   },
   "outputs": [],
   "source": []
  }
 ],
 "metadata": {
  "kernelspec": {
   "display_name": "Python 2",
   "language": "python",
   "name": "python2"
  },
  "language_info": {
   "codemirror_mode": {
    "name": "ipython",
    "version": 2
   },
   "file_extension": ".py",
   "mimetype": "text/x-python",
   "name": "python",
   "nbconvert_exporter": "python",
   "pygments_lexer": "ipython2",
   "version": "2.7.11"
  }
 },
 "nbformat": 4,
 "nbformat_minor": 0
}
