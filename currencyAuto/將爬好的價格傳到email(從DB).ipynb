{
 "cells": [
  {
   "cell_type": "code",
   "execution_count": 7,
   "metadata": {
    "collapsed": true
   },
   "outputs": [],
   "source": [
    "PASSWD = '自己密碼'"
   ]
  },
  {
   "cell_type": "code",
   "execution_count": 19,
   "metadata": {},
   "outputs": [
    {
     "data": {
      "text/plain": [
       "(221, b'2.0.0 closing connection p128sm18314976pga.45 - gsmtp')"
      ]
     },
     "execution_count": 19,
     "metadata": {},
     "output_type": "execute_result"
    }
   ],
   "source": [
    "import smtplib\n",
    "from email.mime.multipart import MIMEMultipart\n",
    "from email.mime.text import MIMEText\n",
    "\n",
    "\n",
    "fromaddr = 'leo750416@gmail.com' #記送mail account\n",
    "toaddr   = 'leo750416@hotmail.com'#收取 mail account\n",
    "msg = MIMEMultipart()\n",
    "msg['From'] = fromaddr\n",
    "msg['To']   = toaddr\n",
    "msg['Subject'] = '[匯率觸價通知]'\n",
    "\n",
    "#-----------------將資料存DB中撈出\n",
    "import sqlite3, pandas\n",
    "with sqlite3.connect('C:\\\\Users\\Leo\\SQLITE\\currency.sqlite') as db:\n",
    "    df = pandas.read_sql_query(r'select * from currency where \"幣別\" = \"JPY\" order by Date limit 1', con = db)\n",
    "\n",
    "\n",
    "#-------------MIMEText(內容-讓df用html呈現), 用HTML表示)\n",
    "msg.attach(MIMEText(df.to_html(), 'html'))  \n",
    "\n",
    "server = smtplib.SMTP('smtp.gmail.com', 587)\n",
    "server.starttls()\n",
    "server.login(fromaddr, PASSWD)\n",
    "text = msg.as_string()\n",
    "server.sendmail(fromaddr, toaddr, text)\n",
    "server.quit()"
   ]
  },
  {
   "cell_type": "code",
   "execution_count": null,
   "metadata": {
    "collapsed": true
   },
   "outputs": [],
   "source": []
  }
 ],
 "metadata": {
  "kernelspec": {
   "display_name": "Python 3",
   "language": "python",
   "name": "python3"
  },
  "language_info": {
   "codemirror_mode": {
    "name": "ipython",
    "version": 3
   },
   "file_extension": ".py",
   "mimetype": "text/x-python",
   "name": "python",
   "nbconvert_exporter": "python",
   "pygments_lexer": "ipython3",
   "version": "3.6.4"
  }
 },
 "nbformat": 4,
 "nbformat_minor": 2
}
